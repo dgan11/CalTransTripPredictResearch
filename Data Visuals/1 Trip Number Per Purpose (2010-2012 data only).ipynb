{
 "cells": [
  {
   "cell_type": "code",
   "execution_count": 2,
   "metadata": {},
   "outputs": [],
   "source": [
    "import pandas as pd\n",
    "import numpy as np\n",
    "import csv\n",
    "import copy"
   ]
  },
  {
   "cell_type": "code",
   "execution_count": 4,
   "metadata": {},
   "outputs": [
    {
     "data": {
      "text/html": [
       "<div>\n",
       "<style scoped>\n",
       "    .dataframe tbody tr th:only-of-type {\n",
       "        vertical-align: middle;\n",
       "    }\n",
       "\n",
       "    .dataframe tbody tr th {\n",
       "        vertical-align: top;\n",
       "    }\n",
       "\n",
       "    .dataframe thead th {\n",
       "        text-align: right;\n",
       "    }\n",
       "</style>\n",
       "<table border=\"1\" class=\"dataframe\">\n",
       "  <thead>\n",
       "    <tr style=\"text-align: right;\">\n",
       "      <th></th>\n",
       "      <th>sampno</th>\n",
       "      <th>perno</th>\n",
       "      <th>tripno</th>\n",
       "      <th>actno</th>\n",
       "      <th>plano</th>\n",
       "      <th>place_name</th>\n",
       "      <th>assn</th>\n",
       "      <th>travel_date</th>\n",
       "      <th>arr_time</th>\n",
       "      <th>dep_time</th>\n",
       "      <th>...</th>\n",
       "      <th>county_id</th>\n",
       "      <th>pprimarycity</th>\n",
       "      <th>city</th>\n",
       "      <th>zipcode</th>\n",
       "      <th>perwgt</th>\n",
       "      <th>experwgt</th>\n",
       "      <th>tcf</th>\n",
       "      <th>tcfperwgt</th>\n",
       "      <th>exptcfperwgt</th>\n",
       "      <th>geom</th>\n",
       "    </tr>\n",
       "  </thead>\n",
       "  <tbody>\n",
       "    <tr>\n",
       "      <th>0</th>\n",
       "      <td>1039879</td>\n",
       "      <td>1</td>\n",
       "      <td>NaN</td>\n",
       "      <td>1</td>\n",
       "      <td>1</td>\n",
       "      <td>REDACTED</td>\n",
       "      <td>12676</td>\n",
       "      <td>6/24/12</td>\n",
       "      <td>3:00:00</td>\n",
       "      <td>8:00:00</td>\n",
       "      <td>...</td>\n",
       "      <td>19.0</td>\n",
       "      <td>FRESNO</td>\n",
       "      <td>FRESNO</td>\n",
       "      <td>93702</td>\n",
       "      <td>0.061313</td>\n",
       "      <td>20.773961</td>\n",
       "      <td>NaN</td>\n",
       "      <td>NaN</td>\n",
       "      <td>NaN</td>\n",
       "      <td>REDACTED</td>\n",
       "    </tr>\n",
       "    <tr>\n",
       "      <th>1</th>\n",
       "      <td>1041766</td>\n",
       "      <td>3</td>\n",
       "      <td>NaN</td>\n",
       "      <td>1</td>\n",
       "      <td>1</td>\n",
       "      <td>REDACTED</td>\n",
       "      <td>12622</td>\n",
       "      <td>5/1/12</td>\n",
       "      <td>3:00:00</td>\n",
       "      <td>8:00:00</td>\n",
       "      <td>...</td>\n",
       "      <td>81.0</td>\n",
       "      <td>MILLBRAE</td>\n",
       "      <td>MILLBRAE</td>\n",
       "      <td>94030</td>\n",
       "      <td>1.495684</td>\n",
       "      <td>506.761593</td>\n",
       "      <td>NaN</td>\n",
       "      <td>NaN</td>\n",
       "      <td>NaN</td>\n",
       "      <td>REDACTED</td>\n",
       "    </tr>\n",
       "    <tr>\n",
       "      <th>2</th>\n",
       "      <td>1043722</td>\n",
       "      <td>2</td>\n",
       "      <td>3.0</td>\n",
       "      <td>1</td>\n",
       "      <td>4</td>\n",
       "      <td>REDACTED</td>\n",
       "      <td>12685</td>\n",
       "      <td>7/3/12</td>\n",
       "      <td>18:50:00</td>\n",
       "      <td>2:59:00</td>\n",
       "      <td>...</td>\n",
       "      <td>107.0</td>\n",
       "      <td>DINUBA</td>\n",
       "      <td>DINUBA</td>\n",
       "      <td>93618</td>\n",
       "      <td>0.037536</td>\n",
       "      <td>12.717828</td>\n",
       "      <td>1.513745</td>\n",
       "      <td>0.056820</td>\n",
       "      <td>19.251557</td>\n",
       "      <td>REDACTED</td>\n",
       "    </tr>\n",
       "    <tr>\n",
       "      <th>3</th>\n",
       "      <td>1050668</td>\n",
       "      <td>1</td>\n",
       "      <td>NaN</td>\n",
       "      <td>3</td>\n",
       "      <td>1</td>\n",
       "      <td>REDACTED</td>\n",
       "      <td>12625</td>\n",
       "      <td>5/4/12</td>\n",
       "      <td>8:00:00</td>\n",
       "      <td>8:30:00</td>\n",
       "      <td>...</td>\n",
       "      <td>111.0</td>\n",
       "      <td>THOUSAND OAKS</td>\n",
       "      <td>THOUSAND OAKS</td>\n",
       "      <td>91360</td>\n",
       "      <td>0.016209</td>\n",
       "      <td>5.491942</td>\n",
       "      <td>NaN</td>\n",
       "      <td>NaN</td>\n",
       "      <td>NaN</td>\n",
       "      <td>REDACTED</td>\n",
       "    </tr>\n",
       "    <tr>\n",
       "      <th>4</th>\n",
       "      <td>1051203</td>\n",
       "      <td>1</td>\n",
       "      <td>8.0</td>\n",
       "      <td>1</td>\n",
       "      <td>9</td>\n",
       "      <td>REDACTED</td>\n",
       "      <td>12628</td>\n",
       "      <td>5/7/12</td>\n",
       "      <td>18:16:00</td>\n",
       "      <td>2:59:00</td>\n",
       "      <td>...</td>\n",
       "      <td>75.0</td>\n",
       "      <td>SAN FRANCISCO</td>\n",
       "      <td>SAN FRANCISCO</td>\n",
       "      <td>94102</td>\n",
       "      <td>0.446021</td>\n",
       "      <td>151.119204</td>\n",
       "      <td>1.219836</td>\n",
       "      <td>0.544073</td>\n",
       "      <td>184.340790</td>\n",
       "      <td>REDACTED</td>\n",
       "    </tr>\n",
       "  </tbody>\n",
       "</table>\n",
       "<p>5 rows × 32 columns</p>\n",
       "</div>"
      ],
      "text/plain": [
       "    sampno  perno  tripno  actno  plano place_name   assn travel_date  \\\n",
       "0  1039879      1     NaN      1      1   REDACTED  12676     6/24/12   \n",
       "1  1041766      3     NaN      1      1   REDACTED  12622      5/1/12   \n",
       "2  1043722      2     3.0      1      4   REDACTED  12685      7/3/12   \n",
       "3  1050668      1     NaN      3      1   REDACTED  12625      5/4/12   \n",
       "4  1051203      1     8.0      1      9   REDACTED  12628      5/7/12   \n",
       "\n",
       "   arr_time dep_time    ...     county_id   pprimarycity           city  \\\n",
       "0   3:00:00  8:00:00    ...          19.0         FRESNO         FRESNO   \n",
       "1   3:00:00  8:00:00    ...          81.0       MILLBRAE       MILLBRAE   \n",
       "2  18:50:00  2:59:00    ...         107.0         DINUBA         DINUBA   \n",
       "3   8:00:00  8:30:00    ...         111.0  THOUSAND OAKS  THOUSAND OAKS   \n",
       "4  18:16:00  2:59:00    ...          75.0  SAN FRANCISCO  SAN FRANCISCO   \n",
       "\n",
       "   zipcode    perwgt    experwgt       tcf  tcfperwgt  exptcfperwgt      geom  \n",
       "0    93702  0.061313   20.773961       NaN        NaN           NaN  REDACTED  \n",
       "1    94030  1.495684  506.761593       NaN        NaN           NaN  REDACTED  \n",
       "2    93618  0.037536   12.717828  1.513745   0.056820     19.251557  REDACTED  \n",
       "3    91360  0.016209    5.491942       NaN        NaN           NaN  REDACTED  \n",
       "4    94102  0.446021  151.119204  1.219836   0.544073    184.340790  REDACTED  \n",
       "\n",
       "[5 rows x 32 columns]"
      ]
     },
     "execution_count": 4,
     "metadata": {},
     "output_type": "execute_result"
    }
   ],
   "source": [
    "#Read in the Data\n",
    "ld1 = pd.read_csv('desktop/Caltrans/California_Household_Travel_Survey_2010_2012/caltrans_full_survey/survey_longtrips.csv', encoding = \"ISO-8859-1\", low_memory=False)\n",
    "ld2 = pd.read_csv('desktop/Caltrans/California_Household_Travel_Survey_2010_2012/caltrans_full_survey/survey_longtrips_v02.csv', encoding = \"ISO-8859-1\", low_memory=False)\n",
    "\n",
    "r1 = pd.read_csv('desktop/Caltrans/California_Household_Travel_Survey_2010_2012/caltrans_full_survey/survey_activity.csv', encoding = \"ISO-8859-1\", low_memory=False)\n",
    "r1.head()"
   ]
  },
  {
   "cell_type": "code",
   "execution_count": 26,
   "metadata": {},
   "outputs": [
    {
     "data": {
      "text/plain": [
       "0    1\n",
       "1    1\n",
       "2    1\n",
       "3    4\n",
       "4    1\n",
       "Name: purpose, dtype: int64"
      ]
     },
     "execution_count": 26,
     "metadata": {},
     "output_type": "execute_result"
    }
   ],
   "source": [
    "#get two series of only trip purpose\n",
    "\n",
    "ldSeries1 = ld1[\"trip_purpose\"]\n",
    "ldSeries2 = ld2[\"trip_purpose\"] \n",
    "rSeries = r1[\"purpose\"]\n",
    "rSeries.head()"
   ]
  },
  {
   "cell_type": "code",
   "execution_count": 22,
   "metadata": {},
   "outputs": [
    {
     "name": "stdout",
     "output_type": "stream",
     "text": [
      "68193\n",
      "68193\n",
      "136386\n",
      "136386\n"
     ]
    }
   ],
   "source": [
    "#append the two series\n",
    "ldSeries_f = ldSeries1.append(ldSeries2)\n",
    "print(ldSeries1.size)\n",
    "print(ldSeries2.size)\n",
    "print(ldSeries_f.size)\n",
    "print(68193*2)"
   ]
  },
  {
   "cell_type": "code",
   "execution_count": 24,
   "metadata": {},
   "outputs": [
    {
     "data": {
      "text/plain": [
       "12    47076\n",
       "5     26154\n",
       "7     15360\n",
       "2     12406\n",
       "9      5846\n",
       "1      5638\n",
       "10     5572\n",
       "8      5534\n",
       "6      3744\n",
       "11     2434\n",
       "3      2252\n",
       "4      1888\n",
       "97     1516\n",
       "99      522\n",
       "98      444\n",
       "Name: trip_purpose, dtype: int64"
      ]
     },
     "execution_count": 24,
     "metadata": {},
     "output_type": "execute_result"
    }
   ],
   "source": [
    "#now find counts for LD\n",
    "ldCounts = ldSeries_f.value_counts()\n",
    "ldCounts"
   ]
  },
  {
   "cell_type": "code",
   "execution_count": 27,
   "metadata": {},
   "outputs": [
    {
     "data": {
      "text/plain": [
       "1     203178\n",
       "2      63538\n",
       "27     34344\n",
       "9      30530\n",
       "8      27406\n",
       "22     25265\n",
       "21     24073\n",
       "37     21980\n",
       "7      19989\n",
       "31     18326\n",
       "39     13778\n",
       "17     11270\n",
       "34     10339\n",
       "25      9940\n",
       "29      9204\n",
       "33      7376\n",
       "36      7331\n",
       "30      7086\n",
       "5       6099\n",
       "32      6016\n",
       "11      5099\n",
       "26      5067\n",
       "35      4911\n",
       "23      4723\n",
       "38      4635\n",
       "4       4211\n",
       "6       4157\n",
       "3       3461\n",
       "28      2846\n",
       "18      2339\n",
       "24      1275\n",
       "20      1236\n",
       "16      1077\n",
       "19       790\n",
       "15       575\n",
       "13       343\n",
       "14       330\n",
       "10       268\n",
       "99       194\n",
       "12       106\n",
       "Name: purpose, dtype: int64"
      ]
     },
     "execution_count": 27,
     "metadata": {},
     "output_type": "execute_result"
    }
   ],
   "source": [
    "#now find counts for regular\n",
    "rCounts = rSeries.value_counts()\n",
    "rCounts"
   ]
  },
  {
   "cell_type": "code",
   "execution_count": 28,
   "metadata": {},
   "outputs": [],
   "source": [
    "%matplotlib inline\n",
    "import matplotlib.pyplot as plt\n",
    "plt.style.use('seaborn-whitegrid')\n",
    "import numpy as np"
   ]
  },
  {
   "cell_type": "code",
   "execution_count": 36,
   "metadata": {},
   "outputs": [
    {
     "data": {
      "image/png": "[encoded data removed]",
      "text/plain": [
       "<Figure size 1080x360 with 1 Axes>"
      ]
     },
     "metadata": {},
     "output_type": "display_data"
    }
   ],
   "source": [
    "r_plot = rCounts.plot(kind='bar', title=\"Trips per Regular Purpose\", figsize=(15,5))"
   ]
  },
  {
   "cell_type": "code",
   "execution_count": 31,
   "metadata": {},
   "outputs": [
    {
     "data": {
      "image/png": "[encoded data removed]",
      "text/plain": [
       "<Figure size 720x360 with 1 Axes>"
      ]
     },
     "metadata": {},
     "output_type": "display_data"
    }
   ],
   "source": [
    "ld_plot = ldCounts.plot(kind='bar', title=\"Trips per Long Distance Purpose\", figsize=(10,5))"
   ]
  },
  {
   "cell_type": "code",
   "execution_count": null,
   "metadata": {},
   "outputs": [],
   "source": []
  }
 ],
 "metadata": {
  "kernelspec": {
   "display_name": "Python 3",
   "language": "python",
   "name": "python3"
  },
  "language_info": {
   "codemirror_mode": {
    "name": "ipython",
    "version": 3
   },
   "file_extension": ".py",
   "mimetype": "text/x-python",
   "name": "python",
   "nbconvert_exporter": "python",
   "pygments_lexer": "ipython3",
   "version": "3.6.5"
  }
 },
 "nbformat": 4,
 "nbformat_minor": 2
}
